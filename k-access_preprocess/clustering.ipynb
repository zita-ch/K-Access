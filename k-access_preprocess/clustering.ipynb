{
 "cells": [
  {
   "cell_type": "code",
   "execution_count": 1,
   "metadata": {
    "ExecuteTime": {
     "end_time": "2021-11-20T11:53:28.689211Z",
     "start_time": "2021-11-20T11:53:25.888470Z"
    }
   },
   "outputs": [
    {
     "name": "stderr",
     "output_type": "stream",
     "text": [
      "pybullet build time: May 20 2022 19:44:17\n"
     ]
    }
   ],
   "source": [
    "import numpy as np\n",
    "import matplotlib.pyplot as plt\n",
    "%matplotlib inline\n",
    "import pybullet as p\n",
    "from scipy.spatial.transform import Rotation\n",
    "import pandas as pd\n",
    "import pickle\n",
    "with open('poses.pickle', 'rb') as handle: poses = pickle.load(handle)\n",
    "\n",
    "def get_gravity_vec(rpdata):\n",
    "    q = p.getQuaternionFromEuler([rpdata[0],rpdata[1],0])\n",
    "    rot_ = Rotation.from_quat(q)\n",
    "    mat_ = rot_.as_matrix()\n",
    "    vec_ = np.dot(np.transpose(mat_), np.array([[0.], [0.], [-1.]]))\n",
    "    vec_ = np.reshape(vec_,(-1,)).tolist()\n",
    "    return vec_\n",
    "\n",
    "import os\n",
    "accessTimeFiles = ['accessTimeTable%d.npy'%x for x in range(14)]\n",
    "timeMat = np.sum([np.load(f) for f in accessTimeFiles],axis=0)\n",
    "timeMat[range(len(timeMat)),range(len(timeMat))]= 0 "
   ]
  },
  {
   "cell_type": "code",
   "execution_count": 2,
   "metadata": {
    "ExecuteTime": {
     "end_time": "2021-11-20T11:53:29.030944Z",
     "start_time": "2021-11-20T11:53:28.722087Z"
    }
   },
   "outputs": [
    {
     "data": {
      "image/png": "[encoded data removed]",
      "text/plain": [
       "<Figure size 432x288 with 1 Axes>"
      ]
     },
     "metadata": {
      "needs_background": "light"
     },
     "output_type": "display_data"
    }
   ],
   "source": [
    "weight_matrix = (timeMat < 19.999) * np.exp(-timeMat/20) + (timeMat >= 19.999) * 1e-8\n",
    "values = np.reshape(weight_matrix,(-1,))\n",
    "ax = plt.hist(values,bins=50,range=(-1e-4,1.1))"
   ]
  },
  {
   "cell_type": "code",
   "execution_count": 3,
   "metadata": {
    "ExecuteTime": {
     "end_time": "2021-11-20T11:53:34.505765Z",
     "start_time": "2021-11-20T11:53:32.275069Z"
    },
    "scrolled": false
   },
   "outputs": [
    {
     "name": "stdout",
     "output_type": "stream",
     "text": [
      "49 15.822355543670485\n"
     ]
    },
    {
     "data": {
      "text/plain": [
       "(0.0, 101.0)"
      ]
     },
     "execution_count": 3,
     "metadata": {},
     "output_type": "execute_result"
    },
    {
     "data": {
      "image/png": "[encoded data removed]",
      "text/plain": [
       "<Figure size 252x141.75 with 1 Axes>"
      ]
     },
     "metadata": {
      "needs_background": "light"
     },
     "output_type": "display_data"
    }
   ],
   "source": [
    "# do clustering\n",
    "class K_access:\n",
    "    def __init__(self, access, k=2, seed =123):\n",
    "        self.seed = seed\n",
    "        np.random.seed(self.seed)\n",
    "        self.k = k\n",
    "        self.access = access\n",
    "        self.node_num = len(access)\n",
    "        self.access[range(self.node_num),range(self.node_num)] = 1\n",
    "        self.core_index = np.zeros((k,),dtype=int)\n",
    "        \n",
    "        self.core_index[0] = np.random.randint(0, self.node_num, (1,))\n",
    "        for i in range(1,k):\n",
    "            ready_core_access = np.sum(self.access[self.core_index[:i],:],axis=0) + np.sum(self.access[:,self.core_index[:i]],axis=1)\n",
    "            ready_core_access[self.core_index[:i]] += 999999 # accessible to self\n",
    "            self.core_index[i] = np.argmin(ready_core_access) # the one that is the farthest from \n",
    "            \n",
    "        self.assignment = np.zeros((self.node_num,),dtype=int)\n",
    "        self.labels = np.zeros((self.node_num,),dtype=int)\n",
    "        self.cores_sorted = np.zeros((self.node_num,),dtype=int)\n",
    "        self.assign()\n",
    "        self.max_iter = 10000\n",
    "            \n",
    "    def assign(self):\n",
    "        core_access = self.access[self.core_index] # from core to nodes\n",
    "        self.assignment = self.core_index[np.argmax(core_access, axis = 0)] # argmax access(core,node)\n",
    "        for c in self.core_index:\n",
    "            self.assignment[c] = c  # self belongs to self\n",
    "        return\n",
    "    \n",
    "    def update(self):\n",
    "        for i in range(self.k):\n",
    "            Si = np.where(self.assignment == self.core_index[i])[0]\n",
    "            access_Si = self.access[Si,:][:,Si]\n",
    "            minaccess_Si = np.min(access_Si,axis=1)\n",
    "            self.core_index[i] = Si[np.argmax(minaccess_Si)]\n",
    "        return        \n",
    "    \n",
    "    def fit(self):\n",
    "        pre_assignment = np.zeros((self.node_num,),dtype=int) - 1\n",
    "        iter_ = 0\n",
    "        while np.sum(np.abs(self.assignment - pre_assignment)) != 0 and iter_ < self.max_iter :\n",
    "            pre_assignment = self.assignment\n",
    "            iter_ += 1\n",
    "            self.update()\n",
    "            self.assign()\n",
    "        return iter_\n",
    "            \n",
    "    def predict(self):\n",
    "        map_ = {}\n",
    "        cnt_Si = []\n",
    "        for i in range(self.k):\n",
    "            cnt_Si.append(len(np.where(self.assignment == self.core_index[i])[0]))\n",
    "        sorted_index = (9999 - np.array(cnt_Si)).argsort()  # descending by # samples in clu\n",
    "        for i in range(self.k):\n",
    "            map_[self.core_index[sorted_index[i]]] = i+1 ##    from 1 to # clu\n",
    "        self.labels = [map_[c] for c in self.assignment]\n",
    "        cores_sorted = self.core_index[sorted_index]\n",
    "        return self.labels, cores_sorted \n",
    "    \n",
    "    def inter_access(self):\n",
    "        cnt_Si = []\n",
    "        for i in range(self.k):\n",
    "            cnt_Si.append(len(np.where(self.assignment == self.core_index[i])[0]))\n",
    "        sorted_index = (9999 - np.array(cnt_Si)).argsort()  # descending by # samples in clu\n",
    "        all_to_C = self.access[:,:][:,self.core_index[sorted_index]]\n",
    "        inter_ = np.zeros((self.k,self.k))\n",
    "        for i in range(self.k):\n",
    "            Si = np.where(self.assignment == self.core_index[sorted_index[i]])[0]\n",
    "            Si_to_C = all_to_C[Si,:]\n",
    "            inter_[i,:] = np.mean(Si_to_C,axis = 0)\n",
    "            inter_[i,i] = 1\n",
    "        return inter_\n",
    "    \n",
    "    def intra_access(self):\n",
    "        intra_ = np.zeros((self.k,))\n",
    "        cnt_Si = []\n",
    "        for i in range(self.k):\n",
    "            cnt_Si.append(len(np.where(self.assignment == self.core_index[i])[0]))\n",
    "        sorted_index = (9999 - np.array(cnt_Si)).argsort()  # descending by # samples in clu\n",
    "        for i in range(self.k):\n",
    "            Si = np.where(self.assignment == self.core_index[sorted_index[i]])[0]\n",
    "            intra_[i] = np.min(self.access[self.core_index[sorted_index[i]],Si],axis=0)\n",
    "        return intra_\n",
    "    \n",
    "    def evaluate(self):\n",
    "        intra_ = np.mean(np.log(self.intra_access()))\n",
    "        inter_ = np.mean(np.log(self.inter_access()))\n",
    "        cnt_Si = []\n",
    "        for i in range(self.k):\n",
    "            cnt_Si.append(len(np.where(self.assignment == self.core_index[i])[0]))\n",
    "        num_one_sample_cluster = len(np.where(np.array(cnt_Si)==1)[0])\n",
    "        alpha = 1\n",
    "        score_ = intra_ - inter_ - alpha * num_one_sample_cluster # larger is better\n",
    "        return score_\n",
    "\n",
    "scores = []\n",
    "n_cls = range(1,101)\n",
    "for num_class in n_cls:\n",
    "    k = K_access(weight_matrix, num_class)\n",
    "    k.fit()\n",
    "    scores.append(k.evaluate())\n",
    "    \n",
    "\n",
    "fig,ax = plt.subplots(figsize=(3.5,3.5*9/16))\n",
    "\n",
    "max_ind = np.argmax(scores)\n",
    "print(max_ind+1,scores[max_ind])\n",
    "\n",
    "plt.plot(n_cls,scores,marker='o',markersize=.75)\n",
    "plt.plot([max_ind+1],[scores[max_ind]],marker='o',c='r',markersize=.8)\n",
    "plt.xlabel('Number of Clusters')\n",
    "plt.ylabel('Index Value')\n",
    "plt.xlim([0,101])"
   ]
  },
  {
   "cell_type": "code",
   "execution_count": 4,
   "metadata": {
    "ExecuteTime": {
     "end_time": "2021-11-20T11:53:37.898834Z",
     "start_time": "2021-11-20T11:53:37.875864Z"
    }
   },
   "outputs": [],
   "source": [
    "num_class = max_ind+1\n",
    "k = K_access(weight_matrix, num_class)\n",
    "k.fit()\n",
    "clusters, cores = k.predict()\n",
    "inter_access = k.inter_access()\n",
    "intra_access = k.intra_access()"
   ]
  },
  {
   "cell_type": "code",
   "execution_count": 5,
   "metadata": {
    "ExecuteTime": {
     "end_time": "2021-11-20T11:53:40.651742Z",
     "start_time": "2021-11-20T11:53:40.646795Z"
    }
   },
   "outputs": [
    {
     "data": {
      "text/plain": [
       "49"
      ]
     },
     "execution_count": 5,
     "metadata": {},
     "output_type": "execute_result"
    }
   ],
   "source": [
    "np.max(clusters)"
   ]
  },
  {
   "cell_type": "code",
   "execution_count": 6,
   "metadata": {
    "ExecuteTime": {
     "end_time": "2021-11-20T11:55:24.943379Z",
     "start_time": "2021-11-20T11:55:24.425762Z"
    },
    "scrolled": false
   },
   "outputs": [
    {
     "name": "stdout",
     "output_type": "stream",
     "text": [
      "49\n"
     ]
    },
    {
     "data": {
      "text/plain": [
       "Text(0, 0.5, 'Number of Samples')"
      ]
     },
     "execution_count": 6,
     "metadata": {},
     "output_type": "execute_result"
    },
    {
     "data": {
      "image/png": "[encoded data removed]",
      "text/plain": [
       "<Figure size 1020x360 with 1 Axes>"
      ]
     },
     "metadata": {
      "needs_background": "light"
     },
     "output_type": "display_data"
    }
   ],
   "source": [
    "# min(cluster) = 1\n",
    "plt.rcParams['figure.dpi'] = 300\n",
    "import matplotlib\n",
    "matplotlib.rcParams['pdf.fonttype'] = 42\n",
    "font = {'family' : 'Arial',\n",
    "        'weight' : 'normal',\n",
    "        'size'   : 5}\n",
    "\n",
    "plt.rc('font', **font)\n",
    "plt.rcParams['lines.linewidth']=0.7\n",
    "plt.rcParams['xtick.direction']='in'\n",
    "plt.rcParams['ytick.direction']='in'\n",
    "plt.rcParams['xtick.major.width']=0.4\n",
    "plt.rcParams['ytick.major.width']=0.4\n",
    "plt.rcParams['xtick.major.size']=2\n",
    "plt.rcParams['ytick.major.size']=2\n",
    "fig,ax = plt.subplots(figsize=(3.4,1.2))\n",
    "ax.spines['right'].set_visible(False)\n",
    "ax.spines['top'].set_visible(False)\n",
    "\n",
    "ax_ = plt.hist(np.array(clusters)-0.5,range = [0.5,np.max(clusters)+0.5],bins = np.max(clusters),edgecolor='dimgray',color='deepskyblue',rwidth=1,alpha=0.5)\n",
    "num_c_real = 0\n",
    "for i in range(np.max(clusters)):\n",
    "    if ax_[0][i] > 0:\n",
    "        num_c_real+=1\n",
    "#         plt.annotate(s=int(ax_[0][i]), xy=(ax_[1][i], ax_[0][i]))\n",
    "ax = plt.xticks(range(1,1+np.max(clusters),5))\n",
    "print(num_c_real)\n",
    "\n",
    "plt.xlabel('Cluster ID',fontsize=7)\n",
    "plt.ylabel('Number of Samples',fontsize=7)\n"
   ]
  },
  {
   "cell_type": "code",
   "execution_count": 9,
   "metadata": {
    "scrolled": false
   },
   "outputs": [
    {
     "name": "stdout",
     "output_type": "stream",
     "text": [
      "[([0, 0, 0.0912189957324243], [0.504355606805779, 3.6905439925317842, -2.6812761530806974, 0.028245387586753067, 1.1393844578804382, -2.3066327093680083, -0.5545440516756344, 0.7870168279430291, -1.019563013501047, -0.1529390574914711, 1.6145625035401459, -1.444521577928498], [-2.9493814930426847, -0.12245102485230747, 0]), ([0, 0, 0.37703775847139165], [-0.2315423057943387, 3.238844516945993, -1.2784669395711306, -0.2631360018318235, 2.049493041918246, -1.6048817294018758, 0.4803791526296773, 1.1258617118225456, -2.2094770217721913, -0.28692072518887346, 1.8812256679395125, -2.0796585096887608], [-0.3166943384007275, -1.3984366534764578, 0]), ([0, 0, 0.1413193321665558], [0.40017223497641863, 0.35616769485146704, -1.3687706234134422, -0.8029378798047949, 0.020551989315046967, -1.870934570563669, -0.24317057580050108, 0.23172645307910478, -1.5481008649545904, 0.2804814903834181, 3.3199473635032013, -1.9445960129799544], [-3.0577140207110074, 0.4582911262144125, 0]), ([0, 0, 0.1803247423847554], [0.2645056810034965, -0.10414643777481716, -1.976212693468954, -0.2654567094297828, 2.9370343442957867, -1.7866721258640437, -0.5264023010443502, 2.8224735404585473, -1.999049033895769, -0.20913191605602333, 0.9144582071226997, -1.8110300236181753], [1.672536194719229, 0.14899520534676924, 0]), ([0, 0, 0.1518573169226492], [0.4490191439912114, -0.7087943744210725, -1.8406671090951712, -0.5803645285399777, 0.26636339005687293, -0.9444581079318377, -0.5102365617945647, 1.6562898544341058, -1.595689152158674, 0.22854623481398137, 1.8864871873767477, -2.670319798673983], [-1.7346619050061982, 0.018440537029558675, 0]), ([0, 0, 0.3672076265378661], [0.6860461330985965, 3.5752183740612127, -1.2454373066723765, -0.35490032730296417, -0.12973943587510928, -1.5072788994525788, 0.6817035631137922, 1.8118939594815437, -1.855050117748077, -0.32179426034028663, 2.9620258423525945, -2.3587736394722048], [-2.350470451402894, -1.4424446942608269, 0]), ([0, 0, 0.12116518216076418], [0.45934452198883546, 0.233964130578208, -2.299633880390325, 0.5090944291549616, 3.8382917217754127, -2.6275128270092467, 0.11742973197947205, 0.7538288537969177, -1.1437160044321253, -0.47476344248873814, 0.07793782817866426, -1.3573538688846496], [-2.7525108184763356, -0.2536924081253622, 0]), ([0, 0, 0.16317916866492363], [0.4066865152448477, -0.92415961677818, -1.250021541757918, 0.8028795121651934, 2.2933727070597327, -0.9962094732366003, -0.7433671061395396, 1.4454285481612676, -1.6246359899865164, -0.003156267938892968, 1.0743300272313048, -2.097930498598164], [-2.3567380384260197, -0.17546745589659726, 0]), ([0, 0, 0.11516077709934186], [-0.5525454617148076, -0.41292558598991547, -2.5600156989108287, 0.2007562182046982, 0.9088564820152792, -1.409035458687615, -0.5327991726304957, 0.7092238848521712, -1.7392007000114587, 0.41634697950181193, 0.710908180207003, -1.5864886543950156], [2.846660810207381, -0.0018844658095082385, 0]), ([0, 0, 0.33867872323481085], [0.8031524416713267, -0.7817106679261145, -1.955816290058588, -0.6392527167896443, 2.8405594369018123, -0.9495586674073996, -0.5550342792665361, 2.4696977034630234, -2.5315923894501897, 0.14013952034274893, 1.2452810345906393, -1.0923218260624121], [1.9694012612274976, -1.2958249301095943, 0]), ([0, 0, 0.15594576388924694], [-0.04885128028886507, 2.1769539676027247, -2.6650541057419046, 0.637514805522526, 3.7635689764806846, -1.815196569505045, 0.39089629379069374, 3.882479992372375, -1.4365001789254952, -0.5222149341655731, 1.678223789996142, -1.6173895353335734], [-2.384643186460711, -0.17145060126165199, 0]), ([0, 0, 0.0836693895940272], [-0.660660880654775, 3.9805058738627266, -1.424649660622585, 0.40375392567659885, 2.68797181049892, -1.6512075152318224, -0.23640205483866175, 3.5958475285731573, -0.9959924342191049, -0.0010749036787307592, 3.7980043968819426, -1.6624992012242181], [-0.2942117995158351, 6.737153649544197e-08, 0]), ([0, 0, 0.15699398566685996], [-0.4053151097252601, -0.3962672961482755, -1.1112340402096619, -0.026480528785310736, 3.5175237225977813, -1.658741575977576, 0.2952678774408981, 3.1338528382712756, -1.5276153078608763, -0.0406302416547089, 1.8557049652258055, -1.2185146828576392], [0.2419749842899979, -0.1269009286213232, 0]), ([0, 0, 0.19193458378616715], [0.3372343116392093, -0.4617684179913863, -0.9388889611506307, 0.1970875877385732, 1.0161018843793617, -1.7214901278290682, 0.5741428631531704, 1.8034406456087106, -2.382988668733085, -0.0005832529726845761, 3.369940427808126, -1.5577027878502252], [-1.4466846352346574, -0.22520541080589052, 0]), ([0, 0, 0.1992468301639964], [-0.041691840790232006, 1.136761804836065, -2.3251703286011556, 0.6077841020992749, 2.395682231645257, -1.0346727495617027, -0.4782989877702571, 2.994750826835997, -1.3290104777851888, 0.39890226274183405, 4.0795130187580275, -1.9956035643572412], [-1.8391078977273436, 0.27155901487826734, 0]), ([0, 0, 0.16156573923954964], [0.21018436592446854, 1.0420514016330005, -1.0460377548967796, 0.6252103125853002, -0.7203350960470569, -2.6485292194628776, -0.07274836565960494, 3.2509447255487762, -0.937966625158834, -0.7050520834031376, 2.1214215140444233, -2.01917571140195], [1.3239224817890891, 0.07756200485242275, 0]), ([0, 0, 0.14269528113498942], [-0.014284158579306394, 3.2795974536946773, -1.5595558552362434, 0.4068989825395263, 1.171077168381118, -2.0832554914439356, -0.18130891161638427, 4.07912977993025, -2.620340857548175, 0.5283462280288611, 2.109392661594579, -1.9156581717422902], [-2.5600186891606245, 0.06383459373050406, 0]), ([0, 0, 0.2576866989615365], [-0.19798215250443496, 3.2197828302864266, -1.090682023668957, -0.18785426636094213, 0.22700851259137725, -1.3039515945030247, -0.099205439424757, 3.269350689902804, -1.933562459174063, 0.09081112257221143, -0.4442223462594668, -1.583500700958076], [-1.9928271507576514, -0.8350110388066483, 0]), ([0, 0, 0.18878326131041828], [-0.6015080405857635, 3.5193430645251396, -1.707987569514079, -0.43131271594844034, 1.5643866787983083, -1.3919888085983092, 0.7890971658893307, 0.18110822216011732, -1.1153321801870955, 0.7121781208677644, 3.7895059281778103, -1.5573216737234192], [1.0763388968555505, -0.230949111404441, 0]), ([0, 0, 0.11502991082908323], [0.2770383595082232, 1.73399076602306, -1.0202454393706586, -0.06577989079014562, 2.5005981805650817, -1.8296124337525825, 0.006803131573691327, 0.27268756034715225, -2.1793777518514137, -0.12969662508933946, 2.709569907608723, -1.026846890122152], [-0.11602075784694342, 0.28526877943200346, 0]), ([0, 0, 0.23834104534928297], [0.6539402536302574, 0.18743898611973572, -0.9351981391120078, -0.6486730678620546, 3.5250542561610394, -0.9205901683506827, 0.21970981507262843, 4.13903626428485, -1.6801696226933436, -0.19847554414624988, 1.1781779299603845, -1.6430289601906896], [2.1382007619047436, 1.351777383198277, 0]), ([0, 0, 0.2396955867361604], [-0.22600441283047426, 3.7916350415097524, -1.559091605060759, -0.2571154633924946, 0.4286963963574771, -2.356873953790401, 0.2793808150492789, 0.10034747998088402, -1.638619230960405, -0.5268948506610687, 2.4929703614118615, -1.2622463768324041], [1.8511991611836194, -0.6143821588042923, 0]), ([0, 0, 0.16872116530841555], [-0.21374280301721438, 0.5034843768891829, -1.4035872867232433, -0.02486997557365667, 3.7015707671007196, -1.8572545084800414, -0.674359412312405, 2.6779625064842287, -1.2956486728821146, 0.359799201391497, 3.022409628913965, -1.820773446472956], [0.46121610462570256, -0.5910016112563209, 0]), ([0, 0, 0.17534034146924618], [0.2521137979308665, -0.48398993670916485, -1.312264185415134, -0.13864200215526845, 1.7310124781473673, -1.9906691081981256, -0.24146944297413608, 1.905830900450058, -2.508740267109435, -0.5543387599981947, 3.375836304926862, -1.0169930388626467], [-0.1582954007302505, -0.4354497720764001, 0]), ([0, 0, 0.36562652718133926], [-0.19738657098321868, 1.1213125806499236, -1.3959464954288008, -0.06942045219166058, 3.4413478593002895, -1.0202523040879579, -0.33022140521538906, 1.9065088818585363, -2.522540116487887, -0.4237466656833803, 0.9934751420262194, -2.32740114172148], [0.4503701132018121, -1.3780214364188068, 0]), ([0, 0, 0.32419053343924736], [-0.5059164591975494, 2.7080526875380477, -1.7438777669866246, -0.5803196247268517, -0.9934541848643729, -1.2607134860255977, -0.5556318222093768, 2.137678914632223, -2.313828340280866, 0.13680720041107455, 0.4819583450060099, -2.543419976889338], [-0.3015227203593177, -1.3588676750204014, 0]), ([0, 0, 0.2871491065273464], [0.26715720094150025, -0.7069476479556575, -2.3605723197729036, 0.5173442727528712, 3.627324705111595, -1.7853024652383571, 0.008388021830993509, -0.46080517872767524, -1.8962524929499918, 0.07312614853607294, 0.1278632868389252, -2.2143858782691366], [-1.5172348141965815, 1.2590509670730248, 0]), ([0, 0, 0.1496726923363121], [-0.008498536932694074, 1.09681767647261, -1.1459406468316884, -0.35500914656872057, 4.07714987532653, -0.9936000423066508, -0.4739284631705452, 0.902181576620286, -1.1017837943790691, 0.6415032797981219, 1.3063505620507736, -2.125901410311371], [2.1602307766498816, -0.04086820956333267, 0]), ([0, 0, 0.13299927603351552], [0.8030621925485526, 3.4906872499802026, -1.0368282883100939, 0.7536388695285121, -0.0916958728930557, -1.9763643042964658, 0.5244795041223674, 2.6926610431795885, -2.429008390235288, 0.437063693385659, 0.08957782879378287, -2.292582871298152], [0.5159194138700286, 0.020483492597401655, 0]), ([0, 0, 0.23758564532225177], [-0.6304637186833337, 1.0340122088809403, -1.0401475233305686, 0.20071260726516643, 3.120622366175934, -1.8678439260793995, -0.2415252983284916, -0.4873367777752911, -1.1374839561834245, 0.4951099748796999, -0.12848769165216456, -1.7827702544179456], [-2.2851139811597516, 1.4362327612181052, 0]), ([0, 0, 0.13079434698670614], [-0.5081750828244972, 2.4599932801168833, -1.098967265771406, -0.7001267592086766, 3.821722118139615, -2.592571451170258, 0.6477551048948373, 0.8372336901859055, -2.516465201335627, 0.050103447622942575, 0.24656794920997552, -2.1871253537229762], [0.6586303067648482, 0.2083937439083662, 0]), ([0, 0, 0.22344467849950636], [-0.5609175462232215, 0.7859479028246775, -1.3694937741927256, -0.5176784483153063, 3.2612905126266485, -1.2162002332213064, -0.02840219062272745, -1.0059076439094634, -2.1905396240542623, 0.19601715929690824, 4.0909666501381095, -1.5715889820016977], [3.131324281034536, -1.318198132867443, 0]), ([0, 0, 0.16080721183141633], [0.07144244466763172, 0.6176157711494652, -1.5990969169255191, -0.03676761804369829, 3.3487929399781176, -1.4589018240038858, 0.0617733063572021, 2.673486338575078, -2.2084113061882604, -0.26724753770662335, 3.0631626282809408, -1.9054934347141126], [-0.23523613836020374, -0.3894365319631402, 0]), ([0, 0, 0.17462956628188395], [0.1298935038989501, 3.932281734165581, -1.1478662490845288, 0.5545625806666271, 3.125229755568299, -1.5247240793483492, -0.4839113906418154, 3.8700409581962143, -1.4967194793268457, 0.11896316339511026, -0.3950110751097488, -1.8884168989162167], [-0.6149837774981577, 0.4412854982080421, 0]), ([0, 0, 0.14973084131294045], [-0.4006007067537052, 4.160003925463774, -1.597040160127977, 0.5402532622255583, -0.3507199022804857, -1.1658440696471923, 0.6494809559012376, 1.346010790162906, -1.6162523131684354, 0.48071911269053963, -0.11312494131376635, -1.8071085312092192], [2.7767243151296506, -0.4811301374859456, 0]), ([0, 0, 0.17563333003071221], [-0.06437984678133951, -0.5982161074008026, -2.592634745954247, -0.3364055059514101, 3.0683078880746173, -1.4345295239316171, 0.5566582155317235, 1.7284921261247965, -1.9031811361273563, -0.6054571248303454, 0.6273992001078778, -1.924631725083662], [-0.47678983578342204, 0.31904086734537035, 0]), ([0, 0, 0.1936797937386601], [0.541669960722679, 2.7779552122646525, -2.204087197138578, 0.011227019991780364, 4.188857589992312, -2.679526556144784, 0.1212903381481292, 2.5737373774401915, -1.5611685483729445, 0.7452653044668542, 0.5063104671167047, -2.0940039345953174], [1.4038743918733363, -0.10097278704033533, 0]), ([0, 0, 0.2717065105339994], [0.5869272530289544, 4.120064914383067, -2.284503875646712, 0.5695146876011409, 0.6822821266803101, -2.6763383299058052, 0.46969594700804235, 2.2061032629841644, -2.4064098344341627, 0.1357576332355008, 0.2408428826676917, -1.370707136027169], [-1.1756053378628453, 0.5347119220088661, 0]), ([0, 0, 0.1887228951389457], [-0.0427940497059318, 3.0998662762439406, -2.69336219306871, -0.36378101807329943, 1.4790193313619706, -1.6875068691085042, 0.646009174187414, 0.732637959123172, -2.0736085071477888, 0.24939169143862133, 1.280450122033284, -2.2944067225349336], [0.4495208239583545, 0.5797180690219809, 0]), ([0, 0, 0.22855930296727292], [-0.31118121684847516, 1.4234649458160014, -1.8056557314019213, -0.2984141892701207, 2.7853876783770932, -1.1391782968321502, 0.7094014822471442, 3.1672538235828775, -1.180407561257016, 0.1073835145243308, 3.2734894286575202, -2.1588418823580224], [-0.002632080128517355, 1.548796600251724, 0]), ([0, 0, 0.25837545623821284], [-0.11215238300404291, 3.623570167878616, -1.0915656946654406, -0.020023573868986292, 0.6620716138425603, -1.9813041259524498, -0.23316078983947047, 0.41529724768226073, -2.215466486640493, 0.7555441300804812, -0.6083932270225527, -1.4878958226273002], [0.9297512006959575, 1.1309318187101716, 0]), ([0, 0, 0.20246204560990802], [-0.05851543353872045, 3.240705802840891, -0.9357261834736996, -0.39990101452048177, 3.9736069050924154, -2.0120129473809807, -0.014389190633505678, 0.7871710644989383, -1.7427113060785149, -0.30428384138865333, 1.7696448892466168, -1.7391218162779054], [0.9360400814127754, 0.3829983926712554, 0]), ([0, 0, 0.2088869354344191], [0.17219300232776474, -0.11495470023565624, -2.579950510333325, 0.7992020811968069, 3.9634796205234912, -1.2575610577075358, -0.43386912160998603, -0.5089819948026088, -1.4728192377994977, -0.10282177224640142, -0.42721971840686157, -1.809594816533829], [-0.21174525951943193, 0.0932545907627015, 0]), ([0, 0, 0.28606534500753233], [-0.4548973478244059, 3.7628553067204282, -2.229696823369887, 0.6338653110655788, 3.450029877087583, -1.3194959899380523, -0.660044463909612, 3.2832008026203376, -1.3291039908924756, -0.05068714344174289, 0.696285275168283, -2.230939896150689], [-2.1971686456569577, 0.9174368650743868, 0]), ([0, 0, 0.17817228723110728], [0.010296918247605995, 1.0335108562093656, -2.4475933282223052, -0.19200727534422513, 4.014048655361796, -1.133818148744028, 0.5945592984759469, 4.181083483111626, -2.3269464435317384, -0.1275995078014046, 2.3910589527333497, -1.837772881494549], [0.9667084840882162, -0.18872436058793363, 0]), ([0, 0, 0.10905001250002837], [0.6960779407236781, 2.549639149694112, -1.0075817854433706, -0.2777619377635516, 2.2007347171496185, -1.8691900906323042, 0.15735582106796803, 1.3279222326686073, -2.365766929582941, 0.1383927981659344, 1.6910983363744212, -1.2524839124456482], [3.1267565275215126, 0.1767922050979537, 0]), ([0, 0, 0.16165958386805263], [0.3351909430294797, -0.6333140359710433, -1.1999075763362448, 0.354888662951422, 2.63409434599623, -2.051705763740723, 0.5939188490863389, 2.830531692303046, -2.5036637944151505, -0.09304627518153676, 3.6648312057042447, -2.6165688131617437], [0.4511803172424097, -0.16219827466093167, 0]), ([0, 0, 0.13973518039494273], [0.29871407965665164, 0.647997228503181, -1.7757938989147057, 0.005522998809477337, 0.008848162938648065, -0.9757110607596964, 0.5489191690768735, 3.8729559370238342, -1.1906445528636331, 0.10762124853798773, 3.7639522154943585, -2.5368683907651928], [-3.034547086308124, 0.4776492295576082, 0]), ([0, 0, 0.22826556316152982], [-0.6679517488844072, 3.7140058993372578, -1.3631059555876883, 0.6428426436648039, 2.8742365616328707, -1.627025962739263, 0.300724983386689, 3.617622629241982, -1.6647674572697668, 0.2816557904432931, -0.27194090094618595, -1.855717573698987], [1.9739980213100836, 0.4831669869336648, 0])]\n"
     ]
    }
   ],
   "source": [
    "\"\"\"\n",
    "output format: list of tuples:\n",
    "[\n",
    "([0,0,height], [ 12 joints], [roll, pitch, 0] ),\n",
    "]\n",
    "\"\"\"\n",
    "kaccess_config = []\n",
    "for i in range(np.max(clusters)):\n",
    "    centroid_pose = poses[cores[i]]\n",
    "    ele1 = [0,0, centroid_pose['store_height']]\n",
    "    ele2 = centroid_pose['store_joints']\n",
    "    ele3 = list(centroid_pose['store_roll_pitch'])+[0]\n",
    "    ele = (ele1,ele2,ele3)\n",
    "    kaccess_config.append(ele)\n",
    "print(kaccess_config)"
   ]
  },
  {
   "cell_type": "code",
   "execution_count": null,
   "metadata": {},
   "outputs": [],
   "source": []
  }
 ],
 "metadata": {
  "kernelspec": {
   "display_name": "Python [conda env:lg] *",
   "language": "python",
   "name": "conda-env-lg-py"
  },
  "language_info": {
   "codemirror_mode": {
    "name": "ipython",
    "version": 3
   },
   "file_extension": ".py",
   "mimetype": "text/x-python",
   "name": "python",
   "nbconvert_exporter": "python",
   "pygments_lexer": "ipython3",
   "version": "3.8.13"
  },
  "toc": {
   "base_numbering": 1,
   "nav_menu": {},
   "number_sections": true,
   "sideBar": true,
   "skip_h1_title": false,
   "title_cell": "Table of Contents",
   "title_sidebar": "Contents",
   "toc_cell": false,
   "toc_position": {},
   "toc_section_display": true,
   "toc_window_display": false
  },
  "varInspector": {
   "cols": {
    "lenName": 16,
    "lenType": 16,
    "lenVar": 40
   },
   "kernels_config": {
    "python": {
     "delete_cmd_postfix": "",
     "delete_cmd_prefix": "del ",
     "library": "var_list.py",
     "varRefreshCmd": "print(var_dic_list())"
    },
    "r": {
     "delete_cmd_postfix": ") ",
     "delete_cmd_prefix": "rm(",
     "library": "var_list.r",
     "varRefreshCmd": "cat(var_dic_list()) "
    }
   },
   "position": {
    "height": "367px",
    "left": "1515px",
    "right": "20px",
    "top": "128px",
    "width": "401px"
   },
   "types_to_exclude": [
    "module",
    "function",
    "builtin_function_or_method",
    "instance",
    "_Feature"
   ],
   "window_display": true
  }
 },
 "nbformat": 4,
 "nbformat_minor": 2
}
